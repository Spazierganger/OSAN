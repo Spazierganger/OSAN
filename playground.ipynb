{
 "cells": [
  {
   "cell_type": "code",
   "execution_count": 8,
   "id": "63a9c028-ece8-440c-aca5-bb2ac442eefc",
   "metadata": {},
   "outputs": [],
   "source": [
    "import torch\n",
    "import torch_geometric\n",
    "from data.custom_dataloader import MYDataLoader\n",
    "from torch_geometric.datasets import ZINC, TUDataset\n",
    "from torch_geometric.data import Data\n",
    "from torch_geometric.utils import to_undirected"
   ]
  },
  {
   "cell_type": "code",
   "execution_count": 9,
   "id": "52afa521-3889-4c08-b167-edb82bcb3b46",
   "metadata": {},
   "outputs": [],
   "source": [
    "from torch_sparse import SparseTensor"
   ]
  },
  {
   "cell_type": "code",
   "execution_count": 32,
   "id": "3120d4b9-6f15-4fe7-8a03-126b3d2ca76f",
   "metadata": {},
   "outputs": [],
   "source": [
    "adj = (torch.rand(4, 4) > 0.7)\n",
    "adj = ((adj + adj.t() / 2) > 0).to(torch.float)"
   ]
  },
  {
   "cell_type": "code",
   "execution_count": 33,
   "id": "04036594-61a6-4a4a-8765-a6a21d8ed1e8",
   "metadata": {},
   "outputs": [],
   "source": [
    "sp_adj = SparseTensor.from_dense(adj)\n",
    "edge_index = torch.stack((sp_adj.storage.row(), sp_adj.storage.col()), dim=0)"
   ]
  },
  {
   "cell_type": "code",
   "execution_count": 34,
   "id": "27a4816e-e614-425a-9d46-b1551ddf3de6",
   "metadata": {},
   "outputs": [
    {
     "data": {
      "text/plain": [
       "tensor([[0, 0, 0, 1, 1, 2, 3, 3],\n",
       "        [1, 2, 3, 0, 3, 0, 0, 1]])"
      ]
     },
     "execution_count": 34,
     "metadata": {},
     "output_type": "execute_result"
    }
   ],
   "source": [
    "edge_index"
   ]
  },
  {
   "cell_type": "code",
   "execution_count": 35,
   "id": "35d20b6a-6e92-4691-9573-e72dbf2a32e1",
   "metadata": {},
   "outputs": [],
   "source": [
    "mask = torch.tensor([1, 1, 0, 0,], dtype=torch.float)"
   ]
  },
  {
   "cell_type": "code",
   "execution_count": 36,
   "id": "892c6851-74c1-4cb3-b89d-68536317efa3",
   "metadata": {},
   "outputs": [],
   "source": [
    "mask_adj = adj * mask[None] * mask[:, None]"
   ]
  },
  {
   "cell_type": "code",
   "execution_count": 37,
   "id": "33f57eec-c493-4d8b-a8ca-7dc3e79d4eb4",
   "metadata": {},
   "outputs": [
    {
     "data": {
      "text/plain": [
       "tensor([[0., 1., 0., 0.],\n",
       "        [1., 0., 0., 0.],\n",
       "        [0., 0., 0., 0.],\n",
       "        [0., 0., 0., 0.]])"
      ]
     },
     "execution_count": 37,
     "metadata": {},
     "output_type": "execute_result"
    }
   ],
   "source": [
    "mask_adj"
   ]
  },
  {
   "cell_type": "markdown",
   "id": "fd43116d-9c76-45c5-a064-2075bf2e7f42",
   "metadata": {},
   "source": [
    "# part1"
   ]
  },
  {
   "cell_type": "code",
   "execution_count": 38,
   "id": "107b410f-3170-4907-ba0e-99bbea0405c4",
   "metadata": {},
   "outputs": [],
   "source": [
    "mask_adj = torch.nn.Parameter(mask_adj)"
   ]
  },
  {
   "cell_type": "code",
   "execution_count": 39,
   "id": "c269aabf-d610-4b95-9de6-cd07de9c5182",
   "metadata": {},
   "outputs": [],
   "source": [
    "torch.manual_seed(2022)\n",
    "x = torch.rand(4, 3)"
   ]
  },
  {
   "cell_type": "code",
   "execution_count": 40,
   "id": "b84970d0-ea10-45c9-a89a-30d26b5cf9e0",
   "metadata": {},
   "outputs": [],
   "source": [
    "logits = mask_adj @ x"
   ]
  },
  {
   "cell_type": "code",
   "execution_count": 41,
   "id": "df43fd80-a0ed-4457-abc4-889580161a66",
   "metadata": {},
   "outputs": [
    {
     "data": {
      "text/plain": [
       "tensor([[0.3811, 0.0262, 0.3594],\n",
       "        [0.3958, 0.9219, 0.7588],\n",
       "        [0.0000, 0.0000, 0.0000],\n",
       "        [0.0000, 0.0000, 0.0000]], grad_fn=<MmBackward0>)"
      ]
     },
     "execution_count": 41,
     "metadata": {},
     "output_type": "execute_result"
    }
   ],
   "source": [
    "logits"
   ]
  },
  {
   "cell_type": "code",
   "execution_count": 42,
   "id": "8b4ce4a2-5df3-43fb-b37a-70bf52ccfd98",
   "metadata": {},
   "outputs": [],
   "source": [
    "logits.sum().backward()"
   ]
  },
  {
   "cell_type": "code",
   "execution_count": 43,
   "id": "180f7704-12f3-4bbd-88db-b13632aa8756",
   "metadata": {},
   "outputs": [
    {
     "data": {
      "text/plain": [
       "tensor([[2.0766, 0.7667, 2.0388, 1.5321],\n",
       "        [2.0766, 0.7667, 2.0388, 1.5321],\n",
       "        [2.0766, 0.7667, 2.0388, 1.5321],\n",
       "        [2.0766, 0.7667, 2.0388, 1.5321]])"
      ]
     },
     "execution_count": 43,
     "metadata": {},
     "output_type": "execute_result"
    }
   ],
   "source": [
    "mask_adj.grad"
   ]
  },
  {
   "cell_type": "code",
   "execution_count": 44,
   "id": "21b07ed5-04d1-426f-8f91-a40f1de046f5",
   "metadata": {},
   "outputs": [
    {
     "data": {
      "text/plain": [
       "tensor([4.3376, 3.6087, 2.0766, 2.8433])"
      ]
     },
     "execution_count": 44,
     "metadata": {},
     "output_type": "execute_result"
    }
   ],
   "source": [
    "final_grad = (mask_adj.grad * adj.detach()).sum(1)\n",
    "final_grad"
   ]
  },
  {
   "cell_type": "code",
   "execution_count": null,
   "id": "23cac783-b6d9-47b5-812c-3f138527ffad",
   "metadata": {},
   "outputs": [],
   "source": []
  },
  {
   "cell_type": "markdown",
   "id": "af7667af-a373-4623-b5a4-0e39787fb76a",
   "metadata": {},
   "source": [
    "# part2"
   ]
  },
  {
   "cell_type": "code",
   "execution_count": 45,
   "id": "b7125668-2720-4a5e-8968-8ac394bb8786",
   "metadata": {},
   "outputs": [],
   "source": [
    "from torch_geometric.nn import MessagePassing\n",
    "\n",
    "class GINEConv(MessagePassing):\n",
    "    def __init__(self):\n",
    "        super(GINEConv, self).__init__(aggr=\"add\")\n",
    "    \n",
    "    def forward(self, x, edge_index, edge_weight):\n",
    "        if edge_weight.ndim < 2:\n",
    "            edge_weight = edge_weight[:, None]\n",
    "\n",
    "        out = self.propagate(edge_index, x=x, edge_weight=edge_weight)\n",
    "        return out\n",
    "\n",
    "    def message(self, x_j, edge_weight):\n",
    "        # x_j has shape [E, out_channels]\n",
    "        # print(x_j)\n",
    "        return x_j * edge_weight\n",
    "\n",
    "    def update(self, aggr_out):\n",
    "        return aggr_out"
   ]
  },
  {
   "cell_type": "code",
   "execution_count": 46,
   "id": "e0eb08d9-4333-4954-a7e2-66db897642f3",
   "metadata": {},
   "outputs": [],
   "source": [
    "torch.manual_seed(2022)\n",
    "model = GINEConv()"
   ]
  },
  {
   "cell_type": "code",
   "execution_count": 47,
   "id": "4f53e066-7438-4c01-990c-79193f92406a",
   "metadata": {},
   "outputs": [],
   "source": [
    "# edge_weight = torch.ones(edge_index.shape[1], dtype=torch.float)\n",
    "mask_edge_weight = (mask[edge_index[0]] *  mask[edge_index[1]]).to(torch.float)"
   ]
  },
  {
   "cell_type": "code",
   "execution_count": 48,
   "id": "dcbcf07c-1b0b-46ca-9e44-90d81ccf0165",
   "metadata": {},
   "outputs": [],
   "source": [
    "mask_edge_weight = torch.nn.Parameter(mask_edge_weight)"
   ]
  },
  {
   "cell_type": "code",
   "execution_count": 50,
   "id": "44a1b5f4-6219-443e-9b6f-8e304adaaf02",
   "metadata": {},
   "outputs": [],
   "source": [
    "logits = model(x, edge_index, mask_edge_weight)"
   ]
  },
  {
   "cell_type": "code",
   "execution_count": 51,
   "id": "da467858-69d5-4332-a818-3ef8fe77d5be",
   "metadata": {},
   "outputs": [
    {
     "data": {
      "text/plain": [
       "tensor([[0.3811, 0.0262, 0.3594],\n",
       "        [0.3958, 0.9219, 0.7588],\n",
       "        [0.0000, 0.0000, 0.0000],\n",
       "        [0.0000, 0.0000, 0.0000]], grad_fn=<ScatterAddBackward0>)"
      ]
     },
     "execution_count": 51,
     "metadata": {},
     "output_type": "execute_result"
    }
   ],
   "source": [
    "logits"
   ]
  },
  {
   "cell_type": "code",
   "execution_count": 52,
   "id": "eb452e42-3b65-43ee-8bbe-e1ab9a012b75",
   "metadata": {},
   "outputs": [],
   "source": [
    "logits.sum().backward()"
   ]
  },
  {
   "cell_type": "code",
   "execution_count": 53,
   "id": "4dc0a8e1-48a6-4f23-b63c-3769673bb528",
   "metadata": {},
   "outputs": [
    {
     "data": {
      "text/plain": [
       "tensor([2.0766, 2.0766, 2.0766, 0.7667, 0.7667, 2.0388, 1.5321, 1.5321])"
      ]
     },
     "execution_count": 53,
     "metadata": {},
     "output_type": "execute_result"
    }
   ],
   "source": [
    "mask_edge_weight.grad"
   ]
  },
  {
   "cell_type": "code",
   "execution_count": 56,
   "id": "ff265e55-0a57-4c07-8b03-6da43082f7af",
   "metadata": {},
   "outputs": [],
   "source": [
    "from torch_scatter import scatter\n",
    "\n",
    "final_grad = scatter(mask_edge_weight.grad, edge_index[1], dim=0, reduce='sum')"
   ]
  },
  {
   "cell_type": "code",
   "execution_count": 57,
   "id": "3b0ef0b3-bddc-457b-a069-4895682c16cc",
   "metadata": {},
   "outputs": [
    {
     "data": {
      "text/plain": [
       "tensor([4.3376, 3.6087, 2.0766, 2.8433])"
      ]
     },
     "execution_count": 57,
     "metadata": {},
     "output_type": "execute_result"
    }
   ],
   "source": [
    "final_grad"
   ]
  },
  {
   "cell_type": "code",
   "execution_count": null,
   "id": "8afbd2d0-0a83-4895-aaf9-e80183316267",
   "metadata": {},
   "outputs": [],
   "source": []
  },
  {
   "cell_type": "markdown",
   "id": "5291c231-a674-47b8-8127-e6bdfac4a823",
   "metadata": {},
   "source": [
    "# part 3"
   ]
  },
  {
   "cell_type": "code",
   "execution_count": 66,
   "id": "7a3a35b0-f7fd-4aa8-8699-72c484d931b7",
   "metadata": {},
   "outputs": [],
   "source": [
    "from torch_scatter import scatter\n",
    "\n",
    "class NodemaskToEdgemask(torch.autograd.Function):\n",
    "    @staticmethod\n",
    "    def forward(ctx, mask, *args):\n",
    "        edge_index, n_nodes = args\n",
    "        ctx.save_for_backward(mask, edge_index, n_nodes)\n",
    "        return (mask[edge_index[0]] *  mask[edge_index[1]]).to(torch.float)\n",
    "\n",
    "    @staticmethod\n",
    "    def backward(ctx, grad_output):\n",
    "        mask, edge_index, n_nodes = ctx.saved_tensors\n",
    "        grad_input = grad_output.clone()\n",
    "        final_grad = scatter(grad_output, edge_index[1], dim=0, reduce='sum', dim_size=n_nodes)\n",
    "        return final_grad, None, None"
   ]
  },
  {
   "cell_type": "code",
   "execution_count": 67,
   "id": "6eb2ca31-aac1-4d51-8a9d-47de6b026414",
   "metadata": {},
   "outputs": [],
   "source": [
    "masking = NodemaskToEdgemask.apply"
   ]
  },
  {
   "cell_type": "code",
   "execution_count": 68,
   "id": "f1724307-4c8e-4507-93f4-1c1896ff76fb",
   "metadata": {},
   "outputs": [],
   "source": [
    "mask = torch.nn.Parameter(mask)"
   ]
  },
  {
   "cell_type": "code",
   "execution_count": 69,
   "id": "3667466c-b514-4d6a-861d-eb5780b75e82",
   "metadata": {},
   "outputs": [],
   "source": [
    "mask_edge_weight = masking(mask, edge_index, torch.tensor(mask.shape[0]))"
   ]
  },
  {
   "cell_type": "code",
   "execution_count": 70,
   "id": "c607cef4-3ee2-4d14-a6fe-d4113950423c",
   "metadata": {},
   "outputs": [],
   "source": [
    "logits = model(x, edge_index, mask_edge_weight)"
   ]
  },
  {
   "cell_type": "code",
   "execution_count": 71,
   "id": "408b6ec4-a2aa-425d-8934-6ea902bda1f3",
   "metadata": {},
   "outputs": [],
   "source": [
    "logits.sum().backward()"
   ]
  },
  {
   "cell_type": "code",
   "execution_count": 72,
   "id": "211b1892-8523-4cd0-9807-781dea553438",
   "metadata": {},
   "outputs": [
    {
     "data": {
      "text/plain": [
       "tensor([4.3376, 3.6087, 2.0766, 2.8433])"
      ]
     },
     "execution_count": 72,
     "metadata": {},
     "output_type": "execute_result"
    }
   ],
   "source": [
    "mask.grad"
   ]
  },
  {
   "cell_type": "code",
   "execution_count": null,
   "id": "75675771-fa59-408a-8c1a-5d368b2c0f53",
   "metadata": {},
   "outputs": [],
   "source": []
  }
 ],
 "metadata": {
  "kernelspec": {
   "display_name": "Python 3 (ipykernel)",
   "language": "python",
   "name": "python3"
  },
  "language_info": {
   "codemirror_mode": {
    "name": "ipython",
    "version": 3
   },
   "file_extension": ".py",
   "mimetype": "text/x-python",
   "name": "python",
   "nbconvert_exporter": "python",
   "pygments_lexer": "ipython3",
   "version": "3.8.12"
  }
 },
 "nbformat": 4,
 "nbformat_minor": 5
}
