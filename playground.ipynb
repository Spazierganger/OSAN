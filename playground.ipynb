{
 "cells": [
  {
   "cell_type": "code",
   "execution_count": 1,
   "id": "d973be48-3c92-4f7d-bd01-6217cfd018e0",
   "metadata": {},
   "outputs": [],
   "source": [
    "import torch\n",
    "import torch_geometric\n",
    "from custom_dataloder import MYDataLoader\n",
    "from torch_geometric.datasets import ZINC, TUDataset"
   ]
  },
  {
   "cell_type": "code",
   "execution_count": 2,
   "id": "873cdb19-4d41-4991-9f0e-040f9f40064e",
   "metadata": {},
   "outputs": [],
   "source": [
    "dataset = TUDataset('./datasets', name=\"ZINC_full\")"
   ]
  },
  {
   "cell_type": "code",
   "execution_count": 3,
   "id": "3a704df8-6382-4626-bc8f-d39e453fad4f",
   "metadata": {},
   "outputs": [],
   "source": [
    "graph = dataset[0]"
   ]
  },
  {
   "cell_type": "code",
   "execution_count": null,
   "id": "b4a6deb8-3ba5-4593-a189-c450e877064b",
   "metadata": {},
   "outputs": [],
   "source": []
  },
  {
   "cell_type": "code",
   "execution_count": 4,
   "id": "9096ec8a-e145-4767-a59b-0228992cb8d5",
   "metadata": {},
   "outputs": [],
   "source": [
    "from models import GINConv\n",
    "\n",
    "edge_feature_size = 3\n",
    "node_feature_size = 28\n",
    "hid_size = 8\n",
    "\n",
    "torch.manual_seed(2022)\n",
    "model = GINConv(edge_feature_size, node_feature_size, hid_size)"
   ]
  },
  {
   "cell_type": "code",
   "execution_count": null,
   "id": "89e1832f-6d07-4e0e-b76b-7437fcb1e5bb",
   "metadata": {},
   "outputs": [],
   "source": []
  },
  {
   "cell_type": "code",
   "execution_count": 5,
   "id": "db79313a-1db3-4a65-9d6c-4edf597432f7",
   "metadata": {},
   "outputs": [],
   "source": [
    "# synthetic mask\n",
    "mask = torch.zeros(33, dtype=torch.float)\n",
    "\n",
    "# select nodes 0 - 3\n",
    "mask[:4] = 1\n",
    "mask = torch.nn.Parameter(mask)"
   ]
  },
  {
   "cell_type": "code",
   "execution_count": 6,
   "id": "90b044d5-cdfd-41a7-96f3-d20f5c24873b",
   "metadata": {},
   "outputs": [],
   "source": [
    "# select edges (0, 1), (1, 2), (2, 3)\n",
    "edge_mask = mask[graph.edge_index[0]] * mask[graph.edge_index[1]]"
   ]
  },
  {
   "cell_type": "code",
   "execution_count": 7,
   "id": "c7a1b91b-2b65-4b0e-b6d2-5b64d087df44",
   "metadata": {},
   "outputs": [
    {
     "data": {
      "text/plain": [
       "tensor([1., 1., 1., 0., 0., 0., 0., 0., 0., 0., 0., 0., 0., 0., 0., 0., 0., 0.,\n",
       "        0., 0., 0., 0., 0., 0., 0., 0., 0., 0., 0., 0., 0., 0., 0., 0., 0., 0.],\n",
       "       grad_fn=<MulBackward0>)"
      ]
     },
     "execution_count": 7,
     "metadata": {},
     "output_type": "execute_result"
    }
   ],
   "source": [
    "edge_mask"
   ]
  },
  {
   "cell_type": "code",
   "execution_count": 8,
   "id": "acfd7713-4299-4202-9a88-25fd69c0a2b5",
   "metadata": {},
   "outputs": [
    {
     "data": {
      "text/plain": [
       "tensor([[ 0,  1,  2,  3,  4,  5,  6,  6,  7,  8,  8,  9,  9, 11, 11, 12, 13, 13,\n",
       "         14, 14, 16, 16, 17, 17, 18, 19, 20, 20, 22, 23, 25, 25, 28, 28, 30, 31],\n",
       "        [ 1,  2,  3,  4,  5,  6,  7, 32,  8,  9, 31, 10, 11, 12, 28, 13, 14, 27,\n",
       "         15, 16, 17, 25, 18, 23, 19, 20, 21, 22, 23, 24, 26, 27, 29, 30, 31, 32]])"
      ]
     },
     "execution_count": 8,
     "metadata": {},
     "output_type": "execute_result"
    }
   ],
   "source": [
    "graph.edge_index"
   ]
  },
  {
   "cell_type": "code",
   "execution_count": null,
   "id": "cdb95d8e-ffa6-4148-9e8c-119791eb1866",
   "metadata": {},
   "outputs": [],
   "source": []
  },
  {
   "cell_type": "markdown",
   "id": "537bbd01-8f71-477d-ae78-1e81a28b2c21",
   "metadata": {},
   "source": [
    "# case 1\n",
    "\n",
    "Mask the nodes but not slice them"
   ]
  },
  {
   "cell_type": "code",
   "execution_count": 11,
   "id": "f47e017f-33c1-420b-8d59-e74b07aba823",
   "metadata": {},
   "outputs": [],
   "source": [
    "x = graph.x * mask[:, None]"
   ]
  },
  {
   "cell_type": "code",
   "execution_count": 12,
   "id": "c5a3512a-4d81-4155-af86-69e6f8ac6369",
   "metadata": {},
   "outputs": [],
   "source": [
    "edge_attr = graph.edge_attr * edge_mask[:, None]"
   ]
  },
  {
   "cell_type": "code",
   "execution_count": 13,
   "id": "93ab7eb7-c94a-4d41-8040-037047d0dc65",
   "metadata": {},
   "outputs": [],
   "source": [
    "logits = model(x, graph.edge_index, edge_attr)"
   ]
  },
  {
   "cell_type": "code",
   "execution_count": 14,
   "id": "2aa43dbe-8486-469b-ac12-e833b2d736d5",
   "metadata": {},
   "outputs": [
    {
     "data": {
      "text/plain": [
       "tensor([[-0.0614, -0.0468,  0.0176, -0.0022,  0.0337,  0.0578, -0.0309,  0.0841],\n",
       "        [-0.1483, -0.1292,  0.0436,  0.0166,  0.0393,  0.1117, -0.0818,  0.1585],\n",
       "        [-0.1483, -0.1292,  0.0436,  0.0166,  0.0393,  0.1117, -0.0818,  0.1585],\n",
       "        [-0.1483, -0.1292,  0.0436,  0.0166,  0.0393,  0.1117, -0.0818,  0.1585],\n",
       "        [-0.0614, -0.0468,  0.0176, -0.0022,  0.0337,  0.0578, -0.0309,  0.0841],\n",
       "        [ 0.0000,  0.0000,  0.0000,  0.0000,  0.0000,  0.0000,  0.0000,  0.0000],\n",
       "        [ 0.0000,  0.0000,  0.0000,  0.0000,  0.0000,  0.0000,  0.0000,  0.0000],\n",
       "        [ 0.0000,  0.0000,  0.0000,  0.0000,  0.0000,  0.0000,  0.0000,  0.0000],\n",
       "        [ 0.0000,  0.0000,  0.0000,  0.0000,  0.0000,  0.0000,  0.0000,  0.0000],\n",
       "        [ 0.0000,  0.0000,  0.0000,  0.0000,  0.0000,  0.0000,  0.0000,  0.0000],\n",
       "        [ 0.0000,  0.0000,  0.0000,  0.0000,  0.0000,  0.0000,  0.0000,  0.0000],\n",
       "        [ 0.0000,  0.0000,  0.0000,  0.0000,  0.0000,  0.0000,  0.0000,  0.0000],\n",
       "        [ 0.0000,  0.0000,  0.0000,  0.0000,  0.0000,  0.0000,  0.0000,  0.0000],\n",
       "        [ 0.0000,  0.0000,  0.0000,  0.0000,  0.0000,  0.0000,  0.0000,  0.0000],\n",
       "        [ 0.0000,  0.0000,  0.0000,  0.0000,  0.0000,  0.0000,  0.0000,  0.0000],\n",
       "        [ 0.0000,  0.0000,  0.0000,  0.0000,  0.0000,  0.0000,  0.0000,  0.0000],\n",
       "        [ 0.0000,  0.0000,  0.0000,  0.0000,  0.0000,  0.0000,  0.0000,  0.0000],\n",
       "        [ 0.0000,  0.0000,  0.0000,  0.0000,  0.0000,  0.0000,  0.0000,  0.0000],\n",
       "        [ 0.0000,  0.0000,  0.0000,  0.0000,  0.0000,  0.0000,  0.0000,  0.0000],\n",
       "        [ 0.0000,  0.0000,  0.0000,  0.0000,  0.0000,  0.0000,  0.0000,  0.0000],\n",
       "        [ 0.0000,  0.0000,  0.0000,  0.0000,  0.0000,  0.0000,  0.0000,  0.0000],\n",
       "        [ 0.0000,  0.0000,  0.0000,  0.0000,  0.0000,  0.0000,  0.0000,  0.0000],\n",
       "        [ 0.0000,  0.0000,  0.0000,  0.0000,  0.0000,  0.0000,  0.0000,  0.0000],\n",
       "        [ 0.0000,  0.0000,  0.0000,  0.0000,  0.0000,  0.0000,  0.0000,  0.0000],\n",
       "        [ 0.0000,  0.0000,  0.0000,  0.0000,  0.0000,  0.0000,  0.0000,  0.0000],\n",
       "        [ 0.0000,  0.0000,  0.0000,  0.0000,  0.0000,  0.0000,  0.0000,  0.0000],\n",
       "        [ 0.0000,  0.0000,  0.0000,  0.0000,  0.0000,  0.0000,  0.0000,  0.0000],\n",
       "        [ 0.0000,  0.0000,  0.0000,  0.0000,  0.0000,  0.0000,  0.0000,  0.0000],\n",
       "        [ 0.0000,  0.0000,  0.0000,  0.0000,  0.0000,  0.0000,  0.0000,  0.0000],\n",
       "        [ 0.0000,  0.0000,  0.0000,  0.0000,  0.0000,  0.0000,  0.0000,  0.0000],\n",
       "        [ 0.0000,  0.0000,  0.0000,  0.0000,  0.0000,  0.0000,  0.0000,  0.0000],\n",
       "        [ 0.0000,  0.0000,  0.0000,  0.0000,  0.0000,  0.0000,  0.0000,  0.0000],\n",
       "        [ 0.0000,  0.0000,  0.0000,  0.0000,  0.0000,  0.0000,  0.0000,  0.0000]],\n",
       "       grad_fn=<MmBackward0>)"
      ]
     },
     "execution_count": 14,
     "metadata": {},
     "output_type": "execute_result"
    }
   ],
   "source": [
    "# message propagated to node 4, since there exists edge (3, 4)\n",
    "logits"
   ]
  },
  {
   "cell_type": "code",
   "execution_count": 15,
   "id": "857dbb96-cac9-4a0d-9b7a-5918cc0964d9",
   "metadata": {},
   "outputs": [],
   "source": [
    "# synthetic loss\n",
    "loss = logits.sum()\n",
    "loss.backward()"
   ]
  },
  {
   "cell_type": "code",
   "execution_count": 16,
   "id": "d49f0da0-4091-443e-ad2f-c8d2267a95fd",
   "metadata": {},
   "outputs": [
    {
     "data": {
      "text/plain": [
       "tensor([ 0.0086, -0.0869, -0.0869,  0.0086,  0.0520,  0.0000,  0.0000,  0.0000,\n",
       "         0.0000,  0.0000,  0.0000,  0.0000,  0.0000,  0.0000,  0.0000,  0.0000,\n",
       "         0.0000,  0.0000,  0.0000,  0.0000,  0.0000,  0.0000,  0.0000,  0.0000,\n",
       "         0.0000,  0.0000,  0.0000,  0.0000,  0.0000,  0.0000,  0.0000,  0.0000,\n",
       "         0.0000])"
      ]
     },
     "execution_count": 16,
     "metadata": {},
     "output_type": "execute_result"
    }
   ],
   "source": [
    "# there are non-zero grads on mask[0:5], since node 4 is affected\n",
    "mask.grad"
   ]
  },
  {
   "cell_type": "code",
   "execution_count": null,
   "id": "ae62671a-f2a0-409a-8b59-1b373a8459ef",
   "metadata": {},
   "outputs": [],
   "source": []
  },
  {
   "cell_type": "markdown",
   "id": "e29599c5-12d8-4f7e-b0b9-10759e6455ac",
   "metadata": {},
   "source": [
    "# case 2\n",
    "\n",
    "Does not allow message passing if edge_weight is 0"
   ]
  },
  {
   "cell_type": "code",
   "execution_count": 11,
   "id": "dddb7816-ab59-4452-9bd6-2ebcc3e3f413",
   "metadata": {},
   "outputs": [],
   "source": [
    "x = graph.x * mask[:, None]\n",
    "edge_attr = graph.edge_attr * edge_mask[:, None]"
   ]
  },
  {
   "cell_type": "code",
   "execution_count": 12,
   "id": "9fbf5722-fea7-4078-9d39-f52ccc012efb",
   "metadata": {},
   "outputs": [],
   "source": [
    "# here the edge_mask is detached from the computation graph, otherwise\n",
    "# https://github.com/Spazierganger/diffsubgraph/blob/master/models.py#L86 will introduce extra gradient\n",
    "logits = model(x, graph.edge_index, edge_attr, edge_mask.detach())"
   ]
  },
  {
   "cell_type": "code",
   "execution_count": 13,
   "id": "0d38c3f9-5713-465b-aa46-e6f1d6edfc40",
   "metadata": {},
   "outputs": [],
   "source": [
    "# synthetic loss\n",
    "loss2 = logits.sum()\n",
    "loss2.backward()"
   ]
  },
  {
   "cell_type": "code",
   "execution_count": 14,
   "id": "15bd2b6c-2d6d-4b71-9b05-9fa0bc8b3596",
   "metadata": {},
   "outputs": [
    {
     "data": {
      "text/plain": [
       "tensor([ 0.0086, -0.0869, -0.0869, -0.0434,  0.0000,  0.0000,  0.0000,  0.0000,\n",
       "         0.0000,  0.0000,  0.0000,  0.0000,  0.0000,  0.0000,  0.0000,  0.0000,\n",
       "         0.0000,  0.0000,  0.0000,  0.0000,  0.0000,  0.0000,  0.0000,  0.0000,\n",
       "         0.0000,  0.0000,  0.0000,  0.0000,  0.0000,  0.0000,  0.0000,  0.0000,\n",
       "         0.0000])"
      ]
     },
     "execution_count": 14,
     "metadata": {},
     "output_type": "execute_result"
    }
   ],
   "source": [
    "# only grads on mask[0:4]\n",
    "mask.grad"
   ]
  },
  {
   "cell_type": "code",
   "execution_count": null,
   "id": "b5ab475f-c9a1-455c-8174-4387f22676d3",
   "metadata": {},
   "outputs": [],
   "source": []
  },
  {
   "cell_type": "markdown",
   "id": "933ea2e1-5280-42fd-8518-c7124bf3a070",
   "metadata": {},
   "source": [
    "# case 3\n",
    "\n",
    "mask the `x` and `edge_attr` then slice them"
   ]
  },
  {
   "cell_type": "code",
   "execution_count": 11,
   "id": "ad2332f9-1dd8-4d9d-b1e1-5e0125b168a1",
   "metadata": {},
   "outputs": [],
   "source": [
    "x = (graph.x * mask[:, None])[:4]\n",
    "edge_attr = (graph.edge_attr * edge_mask[:, None])[:3, :]\n",
    "edge_index = graph.edge_index[:, :3]"
   ]
  },
  {
   "cell_type": "code",
   "execution_count": 12,
   "id": "de47ce89-80b2-4b32-91f5-40f74b59053e",
   "metadata": {},
   "outputs": [],
   "source": [
    "logits = model(x, edge_index, edge_attr)"
   ]
  },
  {
   "cell_type": "code",
   "execution_count": 13,
   "id": "d4a5e5cc-72f1-4e33-91b9-b04f5901d0c0",
   "metadata": {},
   "outputs": [],
   "source": [
    "# synthetic loss\n",
    "loss2 = logits.sum()\n",
    "loss2.backward()"
   ]
  },
  {
   "cell_type": "code",
   "execution_count": 15,
   "id": "d20cc033-f716-4ffd-bf74-1fd32183ea02",
   "metadata": {},
   "outputs": [
    {
     "data": {
      "text/plain": [
       "tensor([ 0.0086, -0.0869, -0.0869, -0.0434,  0.0000,  0.0000,  0.0000,  0.0000,\n",
       "         0.0000,  0.0000,  0.0000,  0.0000,  0.0000,  0.0000,  0.0000,  0.0000,\n",
       "         0.0000,  0.0000,  0.0000,  0.0000,  0.0000,  0.0000,  0.0000,  0.0000,\n",
       "         0.0000,  0.0000,  0.0000,  0.0000,  0.0000,  0.0000,  0.0000,  0.0000,\n",
       "         0.0000])"
      ]
     },
     "execution_count": 15,
     "metadata": {},
     "output_type": "execute_result"
    }
   ],
   "source": [
    "# only grads on mask[0:4], and the same as case 2\n",
    "mask.grad"
   ]
  },
  {
   "cell_type": "code",
   "execution_count": null,
   "id": "ef0fa8a4-91a6-4958-8855-299172a8262c",
   "metadata": {},
   "outputs": [],
   "source": []
  },
  {
   "cell_type": "markdown",
   "id": "48d952c2-0e97-40fd-90ce-9d4f226d0db9",
   "metadata": {},
   "source": [
    "# case 4\n",
    "\n",
    "First propagate then mask"
   ]
  },
  {
   "cell_type": "code",
   "execution_count": 9,
   "id": "b814989c-42d9-4e8c-951c-ffa2760c6f28",
   "metadata": {},
   "outputs": [],
   "source": [
    "logits = model(graph.x, graph.edge_index, graph.edge_attr)"
   ]
  },
  {
   "cell_type": "code",
   "execution_count": 10,
   "id": "2f6b585d-0330-4b80-8247-f9561e10d3cf",
   "metadata": {},
   "outputs": [],
   "source": [
    "# synthetic loss\n",
    "loss2 = (logits * mask[:, None]).sum()\n",
    "loss2.backward()"
   ]
  },
  {
   "cell_type": "code",
   "execution_count": 11,
   "id": "30965b93-9be3-4cce-82bb-5ccc78dd8851",
   "metadata": {},
   "outputs": [
    {
     "data": {
      "text/plain": [
       "tensor([ 0.0520,  0.0105,  0.0105,  0.0105,  0.0105,  0.0105,  0.0105,  0.1692,\n",
       "         0.1120,  0.1233,  0.1692,  0.0105,  0.0644,  0.0105,  0.0644,  0.0105,\n",
       "         0.1233,  0.1233,  0.0644,  0.0105,  0.0644,  0.0105,  0.0105,  0.0237,\n",
       "         0.0105,  0.1233,  0.0105,  0.0237,  0.0105,  0.0500,  0.1233,  0.2027,\n",
       "        -0.1352])"
      ]
     },
     "execution_count": 11,
     "metadata": {},
     "output_type": "execute_result"
    }
   ],
   "source": [
    "# all non-zero grads\n",
    "mask.grad"
   ]
  },
  {
   "cell_type": "code",
   "execution_count": null,
   "id": "c2166814-acb9-4d9c-94ca-65d61e32c0b3",
   "metadata": {},
   "outputs": [],
   "source": []
  }
 ],
 "metadata": {
  "kernelspec": {
   "display_name": "Python 3 (ipykernel)",
   "language": "python",
   "name": "python3"
  },
  "language_info": {
   "codemirror_mode": {
    "name": "ipython",
    "version": 3
   },
   "file_extension": ".py",
   "mimetype": "text/x-python",
   "name": "python",
   "nbconvert_exporter": "python",
   "pygments_lexer": "ipython3",
   "version": "3.8.12"
  }
 },
 "nbformat": 4,
 "nbformat_minor": 5
}
